{
 "cells": [
  {
   "cell_type": "code",
   "execution_count": 91,
   "metadata": {},
   "outputs": [],
   "source": [
    "import pdfplumber\n",
    "import re\n",
    "import json\n",
    "\n",
    "with pdfplumber.open(\"KKS_Equipment_key_V6.pdf\") as pdf:\n",
    "    equipment_types = []\n",
    "    equipment_type_re = r\"[A-Z] (\\w+ ?)+\"\n",
    "\n",
    "    equipments = []\n",
    "    equipments_re = r\"([A-Z]{2} (?:[\\w ,\\.\\-\\;\\(\\)\\*]*\\n?(?![A-Z]{2}))+)\"\n",
    "    # This regex is monstrous\n",
    "    # Needs to handle new lines that are not beginning with e.g. \"AB\"\n",
    "    # and also needs to allow for parenthesis, dashes, stars \n",
    "\n",
    "\n",
    "    for page in pdf.pages:\n",
    "        kks_table = page.extract_table()[0][1]\n",
    "        found = re.search(equipment_type_re, kks_table)\n",
    "        if found:\n",
    "            equipment_types.append(found.group(0))\n",
    "        \n",
    "        found = re.findall(equipments_re, kks_table)\n",
    "        if found:\n",
    "            equipments.extend(found)\n",
    "\n",
    "    \n",
    "    def str2dict(data: list[str], key_len: int, sep_len=1)->dict[str]:\n",
    "        \"\"\"str2dict\n",
    "        Convert list of strings to a dictionary\n",
    "        e.g. str2dict(['A Mechanical equipment', 'G Electrical'], key_len=1) -> {\"A\": \"Mechanical equipment\", \"G\": \"Electrical\"}\n",
    "        \n",
    "        Parameters\n",
    "        ----------\n",
    "        data : list[str]\n",
    "            Data to be converted\n",
    "        key_len : int\n",
    "            Length of string key in dictionary\n",
    "        sep_len : int, optional\n",
    "            Separation length between KEY and VALUE in data string, by default 1\n",
    "            \n",
    "        Returns\n",
    "        -------\n",
    "        dict[str]\n",
    "            A string to string dictionary from a list of strings split according to index\n",
    "        \"\"\"\n",
    "\n",
    "        return {string[:key_len]: string[key_len+sep_len:] for string in data}\n",
    "        \n",
    "    equipment_types = str2dict(equipment_types, key_len=1)\n",
    "    equipments = str2dict(equipments, key_len=2)\n",
    "    KKS_equipment = {'Type': equipment_types,\n",
    "                 'Equipment': equipments}\n",
    "\n",
    "with open('KKS_equipment.json', 'w') as fp:\n",
    "    json.dump(KKS_equipment, fp)"
   ]
  },
  {
   "cell_type": "code",
   "execution_count": 93,
   "metadata": {},
   "outputs": [],
   "source": [
    "with open('KKS_equipment.json', 'r') as fp:\n",
    "    KKS = json.load(fp)\n"
   ]
  },
  {
   "cell_type": "code",
   "execution_count": 99,
   "metadata": {},
   "outputs": [
    {
     "data": {
      "text/plain": [
       "'Quality variables (analysis, material properties), other\\nthan *CD*, *CM*, *CV*'"
      ]
     },
     "execution_count": 99,
     "metadata": {},
     "output_type": "execute_result"
    }
   ],
   "source": [
    "KKS[\"Equipment\"][\"CQ\"]"
   ]
  },
  {
   "cell_type": "code",
   "execution_count": null,
   "metadata": {},
   "outputs": [],
   "source": []
  }
 ],
 "metadata": {
  "kernelspec": {
   "display_name": ".env",
   "language": "python",
   "name": "python3"
  },
  "language_info": {
   "codemirror_mode": {
    "name": "ipython",
    "version": 3
   },
   "file_extension": ".py",
   "mimetype": "text/x-python",
   "name": "python",
   "nbconvert_exporter": "python",
   "pygments_lexer": "ipython3",
   "version": "3.9.4"
  },
  "orig_nbformat": 4,
  "vscode": {
   "interpreter": {
    "hash": "590c50f7e3ecc47e8d23daa68b1c410a6c82859b619d9e43c3cb0d77af4485bf"
   }
  }
 },
 "nbformat": 4,
 "nbformat_minor": 2
}
